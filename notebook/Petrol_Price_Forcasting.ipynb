{
 "cells": [
  {
   "cell_type": "code",
   "execution_count": 8,
   "id": "19c07b22",
   "metadata": {},
   "outputs": [],
   "source": [
    "import pandas as pd\n",
    "import matplotlib.pyplot as plt\n",
    "%matplotlib inline\n",
    "import seaborn as sns"
   ]
  },
  {
   "cell_type": "code",
   "execution_count": 2,
   "id": "ce2ee189",
   "metadata": {},
   "outputs": [
    {
     "data": {
      "text/html": [
       "<div>\n",
       "<style scoped>\n",
       "    .dataframe tbody tr th:only-of-type {\n",
       "        vertical-align: middle;\n",
       "    }\n",
       "\n",
       "    .dataframe tbody tr th {\n",
       "        vertical-align: top;\n",
       "    }\n",
       "\n",
       "    .dataframe thead th {\n",
       "        text-align: right;\n",
       "    }\n",
       "</style>\n",
       "<table border=\"1\" class=\"dataframe\">\n",
       "  <thead>\n",
       "    <tr style=\"text-align: right;\">\n",
       "      <th></th>\n",
       "      <th>Date</th>\n",
       "      <th>Petrol (USD)</th>\n",
       "    </tr>\n",
       "  </thead>\n",
       "  <tbody>\n",
       "    <tr>\n",
       "      <th>0</th>\n",
       "      <td>6/9/2003</td>\n",
       "      <td>74.59</td>\n",
       "    </tr>\n",
       "    <tr>\n",
       "      <th>1</th>\n",
       "      <td>6/16/2003</td>\n",
       "      <td>74.47</td>\n",
       "    </tr>\n",
       "    <tr>\n",
       "      <th>2</th>\n",
       "      <td>6/23/2003</td>\n",
       "      <td>74.42</td>\n",
       "    </tr>\n",
       "    <tr>\n",
       "      <th>3</th>\n",
       "      <td>6/30/2003</td>\n",
       "      <td>74.35</td>\n",
       "    </tr>\n",
       "    <tr>\n",
       "      <th>4</th>\n",
       "      <td>7/7/2003</td>\n",
       "      <td>74.28</td>\n",
       "    </tr>\n",
       "  </tbody>\n",
       "</table>\n",
       "</div>"
      ],
      "text/plain": [
       "        Date  Petrol (USD)\n",
       "0   6/9/2003         74.59\n",
       "1  6/16/2003         74.47\n",
       "2  6/23/2003         74.42\n",
       "3  6/30/2003         74.35\n",
       "4   7/7/2003         74.28"
      ]
     },
     "execution_count": 2,
     "metadata": {},
     "output_type": "execute_result"
    }
   ],
   "source": [
    "df = pd.read_csv('train_data_petrol_price.csv')\n",
    "df.head()"
   ]
  },
  {
   "cell_type": "code",
   "execution_count": 3,
   "id": "dcf5ed28",
   "metadata": {},
   "outputs": [
    {
     "data": {
      "text/plain": [
       "Date            0\n",
       "Petrol (USD)    2\n",
       "dtype: int64"
      ]
     },
     "execution_count": 3,
     "metadata": {},
     "output_type": "execute_result"
    }
   ],
   "source": [
    "df.isnull().sum()"
   ]
  },
  {
   "cell_type": "code",
   "execution_count": 4,
   "id": "a6a1fa76",
   "metadata": {},
   "outputs": [],
   "source": [
    "df_new = df.dropna()"
   ]
  },
  {
   "cell_type": "code",
   "execution_count": 6,
   "id": "7887d400",
   "metadata": {},
   "outputs": [
    {
     "data": {
      "text/plain": [
       "Date            0\n",
       "Petrol (USD)    0\n",
       "dtype: int64"
      ]
     },
     "execution_count": 6,
     "metadata": {},
     "output_type": "execute_result"
    }
   ],
   "source": [
    "df_new.isnull().sum()"
   ]
  },
  {
   "cell_type": "code",
   "execution_count": 7,
   "id": "e1023897",
   "metadata": {},
   "outputs": [
    {
     "data": {
      "text/plain": [
       "(811, 2)"
      ]
     },
     "execution_count": 7,
     "metadata": {},
     "output_type": "execute_result"
    }
   ],
   "source": [
    "df_new.shape"
   ]
  },
  {
   "cell_type": "code",
   "execution_count": 9,
   "id": "ab86c26d",
   "metadata": {},
   "outputs": [
    {
     "data": {
      "text/plain": [
       "[<matplotlib.lines.Line2D at 0x1cc71a80130>]"
      ]
     },
     "execution_count": 9,
     "metadata": {},
     "output_type": "execute_result"
    },
    {
     "data": {
      "image/png": "[encoded data removed]",
      "text/plain": [
       "<Figure size 640x480 with 1 Axes>"
      ]
     },
     "metadata": {},
     "output_type": "display_data"
    }
   ],
   "source": [
    "plt.plot(df['Petrol (USD)'],color='red')"
   ]
  },
  {
   "cell_type": "code",
   "execution_count": 14,
   "id": "f1d3480a",
   "metadata": {},
   "outputs": [
    {
     "data": {
      "text/plain": [
       "count    811.000000\n",
       "mean     110.330481\n",
       "std       19.241182\n",
       "min       74.210000\n",
       "25%       94.525000\n",
       "50%      112.420000\n",
       "75%      128.560000\n",
       "max      189.510000\n",
       "Name: Petrol (USD), dtype: float64"
      ]
     },
     "execution_count": 14,
     "metadata": {},
     "output_type": "execute_result"
    }
   ],
   "source": [
    "df_new['Petrol (USD)'].describe()"
   ]
  },
  {
   "cell_type": "code",
   "execution_count": 15,
   "id": "9afae3cb",
   "metadata": {},
   "outputs": [
    {
     "data": {
      "text/plain": [
       "0"
      ]
     },
     "execution_count": 15,
     "metadata": {},
     "output_type": "execute_result"
    }
   ],
   "source": [
    "df_new.duplicated().sum()"
   ]
  },
  {
   "cell_type": "code",
   "execution_count": 16,
   "id": "98dcf791",
   "metadata": {},
   "outputs": [
    {
     "name": "stdout",
     "output_type": "stream",
     "text": [
      "<class 'pandas.core.frame.DataFrame'>\n",
      "Int64Index: 811 entries, 0 to 812\n",
      "Data columns (total 2 columns):\n",
      " #   Column        Non-Null Count  Dtype  \n",
      "---  ------        --------------  -----  \n",
      " 0   Date          811 non-null    object \n",
      " 1   Petrol (USD)  811 non-null    float64\n",
      "dtypes: float64(1), object(1)\n",
      "memory usage: 19.0+ KB\n"
     ]
    }
   ],
   "source": [
    "df_new.info()"
   ]
  },
  {
   "cell_type": "code",
   "execution_count": 18,
   "id": "f768db4d",
   "metadata": {},
   "outputs": [
    {
     "data": {
      "text/plain": [
       "<AxesSubplot:ylabel='Petrol (USD)'>"
      ]
     },
     "execution_count": 18,
     "metadata": {},
     "output_type": "execute_result"
    },
    {
     "data": {
      "image/png": "[encoded data removed]",
      "text/plain": [
       "<Figure size 640x480 with 1 Axes>"
      ]
     },
     "metadata": {},
     "output_type": "display_data"
    }
   ],
   "source": [
    "sns.boxplot(y=df_new['Petrol (USD)'])"
   ]
  },
  {
   "cell_type": "code",
   "execution_count": 19,
   "id": "be36e5f6",
   "metadata": {},
   "outputs": [
    {
     "data": {
      "text/plain": [
       "<AxesSubplot:xlabel='Petrol (USD)', ylabel='Count'>"
      ]
     },
     "execution_count": 19,
     "metadata": {},
     "output_type": "execute_result"
    },
    {
     "data": {
      "image/png": "[encoded data removed]",
      "text/plain": [
       "<Figure size 640x480 with 1 Axes>"
      ]
     },
     "metadata": {},
     "output_type": "display_data"
    }
   ],
   "source": [
    "sns.histplot(df_new['Petrol (USD)'],kde=True)"
   ]
  },
  {
   "cell_type": "code",
   "execution_count": 23,
   "id": "5fc20c76",
   "metadata": {},
   "outputs": [
    {
     "data": {
      "text/plain": [
       "Date             object\n",
       "Petrol (USD)    float64\n",
       "dtype: object"
      ]
     },
     "execution_count": 23,
     "metadata": {},
     "output_type": "execute_result"
    }
   ],
   "source": [
    "df_new.dtypes"
   ]
  },
  {
   "cell_type": "code",
   "execution_count": 24,
   "id": "f1277be5",
   "metadata": {},
   "outputs": [
    {
     "name": "stderr",
     "output_type": "stream",
     "text": [
      "C:\\Users\\ASUS\\AppData\\Local\\Temp\\ipykernel_28188\\1250731367.py:1: SettingWithCopyWarning: \n",
      "A value is trying to be set on a copy of a slice from a DataFrame.\n",
      "Try using .loc[row_indexer,col_indexer] = value instead\n",
      "\n",
      "See the caveats in the documentation: https://pandas.pydata.org/pandas-docs/stable/user_guide/indexing.html#returning-a-view-versus-a-copy\n",
      "  df_new['Date'] = pd.to_datetime(df_new['Date'])\n"
     ]
    }
   ],
   "source": [
    "df_new['Date'] = pd.to_datetime(df_new['Date'])"
   ]
  },
  {
   "cell_type": "code",
   "execution_count": 25,
   "id": "2dd0f9ac",
   "metadata": {},
   "outputs": [
    {
     "data": {
      "text/plain": [
       "Date            datetime64[ns]\n",
       "Petrol (USD)           float64\n",
       "dtype: object"
      ]
     },
     "execution_count": 25,
     "metadata": {},
     "output_type": "execute_result"
    }
   ],
   "source": [
    "df_new.dtypes"
   ]
  },
  {
   "cell_type": "code",
   "execution_count": 30,
   "id": "ea6f0777",
   "metadata": {},
   "outputs": [
    {
     "data": {
      "text/html": [
       "<div>\n",
       "<style scoped>\n",
       "    .dataframe tbody tr th:only-of-type {\n",
       "        vertical-align: middle;\n",
       "    }\n",
       "\n",
       "    .dataframe tbody tr th {\n",
       "        vertical-align: top;\n",
       "    }\n",
       "\n",
       "    .dataframe thead th {\n",
       "        text-align: right;\n",
       "    }\n",
       "</style>\n",
       "<table border=\"1\" class=\"dataframe\">\n",
       "  <thead>\n",
       "    <tr style=\"text-align: right;\">\n",
       "      <th></th>\n",
       "      <th>Date</th>\n",
       "      <th>Petrol (USD)</th>\n",
       "      <th>date</th>\n",
       "      <th>month</th>\n",
       "      <th>year</th>\n",
       "    </tr>\n",
       "  </thead>\n",
       "  <tbody>\n",
       "    <tr>\n",
       "      <th>0</th>\n",
       "      <td>2003-06-09</td>\n",
       "      <td>74.59</td>\n",
       "      <td>9</td>\n",
       "      <td>6</td>\n",
       "      <td>2003</td>\n",
       "    </tr>\n",
       "    <tr>\n",
       "      <th>1</th>\n",
       "      <td>2003-06-16</td>\n",
       "      <td>74.47</td>\n",
       "      <td>16</td>\n",
       "      <td>6</td>\n",
       "      <td>2003</td>\n",
       "    </tr>\n",
       "    <tr>\n",
       "      <th>2</th>\n",
       "      <td>2003-06-23</td>\n",
       "      <td>74.42</td>\n",
       "      <td>23</td>\n",
       "      <td>6</td>\n",
       "      <td>2003</td>\n",
       "    </tr>\n",
       "    <tr>\n",
       "      <th>3</th>\n",
       "      <td>2003-06-30</td>\n",
       "      <td>74.35</td>\n",
       "      <td>30</td>\n",
       "      <td>6</td>\n",
       "      <td>2003</td>\n",
       "    </tr>\n",
       "    <tr>\n",
       "      <th>4</th>\n",
       "      <td>2003-07-07</td>\n",
       "      <td>74.28</td>\n",
       "      <td>7</td>\n",
       "      <td>7</td>\n",
       "      <td>2003</td>\n",
       "    </tr>\n",
       "  </tbody>\n",
       "</table>\n",
       "</div>"
      ],
      "text/plain": [
       "        Date  Petrol (USD)  date  month  year\n",
       "0 2003-06-09         74.59     9      6  2003\n",
       "1 2003-06-16         74.47    16      6  2003\n",
       "2 2003-06-23         74.42    23      6  2003\n",
       "3 2003-06-30         74.35    30      6  2003\n",
       "4 2003-07-07         74.28     7      7  2003"
      ]
     },
     "execution_count": 30,
     "metadata": {},
     "output_type": "execute_result"
    }
   ],
   "source": [
    "df_new['date'] = df_new['Date'].dt.day\n",
    "df_new['month'] = df_new['Date'].dt.month\n",
    "df_new['year'] = df_new['Date'].dt.year\n",
    "\n",
    "df_new.head()"
   ]
  },
  {
   "cell_type": "code",
   "execution_count": 31,
   "id": "d3d59fef",
   "metadata": {},
   "outputs": [],
   "source": [
    "df_new = df_new.drop(['Date'],axis=1)"
   ]
  },
  {
   "cell_type": "code",
   "execution_count": 33,
   "id": "4d31b7cc",
   "metadata": {},
   "outputs": [
    {
     "data": {
      "text/plain": [
       "Petrol (USD)    float64\n",
       "date              int64\n",
       "month             int64\n",
       "year              int64\n",
       "dtype: object"
      ]
     },
     "execution_count": 33,
     "metadata": {},
     "output_type": "execute_result"
    }
   ],
   "source": [
    "df_new.dtypes"
   ]
  },
  {
   "cell_type": "code",
   "execution_count": 34,
   "id": "8f108a8c",
   "metadata": {},
   "outputs": [
    {
     "data": {
      "text/plain": [
       "-0.0987574434522889"
      ]
     },
     "execution_count": 34,
     "metadata": {},
     "output_type": "execute_result"
    }
   ],
   "source": [
    "df_new['Petrol (USD)'].skew()"
   ]
  },
  {
   "cell_type": "code",
   "execution_count": 36,
   "id": "53bf922e",
   "metadata": {},
   "outputs": [
    {
     "data": {
      "text/plain": [
       "(168.05402693198639, 52.606934843599014)"
      ]
     },
     "execution_count": 36,
     "metadata": {},
     "output_type": "execute_result"
    }
   ],
   "source": [
    "upperlimit = df_new['Petrol (USD)'].mean() + 3*df_new['Petrol (USD)'].std()\n",
    "lowerlimit = df_new['Petrol (USD)'].mean() - 3*df_new['Petrol (USD)'].std()\n",
    "\n",
    "upperlimit,lowerlimit"
   ]
  },
  {
   "cell_type": "code",
   "execution_count": 39,
   "id": "680fe561",
   "metadata": {},
   "outputs": [
    {
     "data": {
      "text/html": [
       "<div>\n",
       "<style scoped>\n",
       "    .dataframe tbody tr th:only-of-type {\n",
       "        vertical-align: middle;\n",
       "    }\n",
       "\n",
       "    .dataframe tbody tr th {\n",
       "        vertical-align: top;\n",
       "    }\n",
       "\n",
       "    .dataframe thead th {\n",
       "        text-align: right;\n",
       "    }\n",
       "</style>\n",
       "<table border=\"1\" class=\"dataframe\">\n",
       "  <thead>\n",
       "    <tr style=\"text-align: right;\">\n",
       "      <th></th>\n",
       "      <th>Petrol (USD)</th>\n",
       "      <th>date</th>\n",
       "      <th>month</th>\n",
       "      <th>year</th>\n",
       "    </tr>\n",
       "  </thead>\n",
       "  <tbody>\n",
       "    <tr>\n",
       "      <th>79</th>\n",
       "      <td>182.73</td>\n",
       "      <td>13</td>\n",
       "      <td>12</td>\n",
       "      <td>2004</td>\n",
       "    </tr>\n",
       "    <tr>\n",
       "      <th>142</th>\n",
       "      <td>189.51</td>\n",
       "      <td>27</td>\n",
       "      <td>2</td>\n",
       "      <td>2006</td>\n",
       "    </tr>\n",
       "  </tbody>\n",
       "</table>\n",
       "</div>"
      ],
      "text/plain": [
       "     Petrol (USD)  date  month  year\n",
       "79         182.73    13     12  2004\n",
       "142        189.51    27      2  2006"
      ]
     },
     "execution_count": 39,
     "metadata": {},
     "output_type": "execute_result"
    }
   ],
   "source": [
    "df_new[(df_new['Petrol (USD)']>upperlimit) | (df_new['Petrol (USD)']<lowerlimit)]"
   ]
  },
  {
   "cell_type": "code",
   "execution_count": 48,
   "id": "5327f212",
   "metadata": {},
   "outputs": [],
   "source": [
    "df_refined = df_new[df_new['Petrol (USD)']<upperlimit]"
   ]
  },
  {
   "cell_type": "code",
   "execution_count": 49,
   "id": "61ee76e0",
   "metadata": {},
   "outputs": [
    {
     "data": {
      "text/plain": [
       "(809, 4)"
      ]
     },
     "execution_count": 49,
     "metadata": {},
     "output_type": "execute_result"
    }
   ],
   "source": [
    "df_refined.shape"
   ]
  },
  {
   "cell_type": "code",
   "execution_count": 52,
   "id": "c6874002",
   "metadata": {},
   "outputs": [
    {
     "data": {
      "text/plain": [
       "<AxesSubplot:ylabel='Petrol (USD)'>"
      ]
     },
     "execution_count": 52,
     "metadata": {},
     "output_type": "execute_result"
    },
    {
     "data": {
      "image/png": "[encoded data removed]",
      "text/plain": [
       "<Figure size 640x480 with 1 Axes>"
      ]
     },
     "metadata": {},
     "output_type": "display_data"
    }
   ],
   "source": [
    "# Outliers are removed\n",
    "sns.boxplot(y=df_refined['Petrol (USD)'])\n"
   ]
  },
  {
   "cell_type": "code",
   "execution_count": 53,
   "id": "123bfea4",
   "metadata": {},
   "outputs": [
    {
     "data": {
      "text/html": [
       "<div>\n",
       "<style scoped>\n",
       "    .dataframe tbody tr th:only-of-type {\n",
       "        vertical-align: middle;\n",
       "    }\n",
       "\n",
       "    .dataframe tbody tr th {\n",
       "        vertical-align: top;\n",
       "    }\n",
       "\n",
       "    .dataframe thead th {\n",
       "        text-align: right;\n",
       "    }\n",
       "</style>\n",
       "<table border=\"1\" class=\"dataframe\">\n",
       "  <thead>\n",
       "    <tr style=\"text-align: right;\">\n",
       "      <th></th>\n",
       "      <th>Petrol (USD)</th>\n",
       "      <th>date</th>\n",
       "      <th>month</th>\n",
       "      <th>year</th>\n",
       "    </tr>\n",
       "  </thead>\n",
       "  <tbody>\n",
       "    <tr>\n",
       "      <th>count</th>\n",
       "      <td>809.000000</td>\n",
       "      <td>809.000000</td>\n",
       "      <td>809.000000</td>\n",
       "      <td>809.000000</td>\n",
       "    </tr>\n",
       "    <tr>\n",
       "      <th>mean</th>\n",
       "      <td>110.143115</td>\n",
       "      <td>15.741656</td>\n",
       "      <td>6.601978</td>\n",
       "      <td>2010.736712</td>\n",
       "    </tr>\n",
       "    <tr>\n",
       "      <th>std</th>\n",
       "      <td>18.890684</td>\n",
       "      <td>8.804463</td>\n",
       "      <td>3.438972</td>\n",
       "      <td>4.499026</td>\n",
       "    </tr>\n",
       "    <tr>\n",
       "      <th>min</th>\n",
       "      <td>74.210000</td>\n",
       "      <td>1.000000</td>\n",
       "      <td>1.000000</td>\n",
       "      <td>2003.000000</td>\n",
       "    </tr>\n",
       "    <tr>\n",
       "      <th>25%</th>\n",
       "      <td>94.430000</td>\n",
       "      <td>8.000000</td>\n",
       "      <td>4.000000</td>\n",
       "      <td>2007.000000</td>\n",
       "    </tr>\n",
       "    <tr>\n",
       "      <th>50%</th>\n",
       "      <td>112.370000</td>\n",
       "      <td>16.000000</td>\n",
       "      <td>7.000000</td>\n",
       "      <td>2011.000000</td>\n",
       "    </tr>\n",
       "    <tr>\n",
       "      <th>75%</th>\n",
       "      <td>128.430000</td>\n",
       "      <td>23.000000</td>\n",
       "      <td>10.000000</td>\n",
       "      <td>2015.000000</td>\n",
       "    </tr>\n",
       "    <tr>\n",
       "      <th>max</th>\n",
       "      <td>142.170000</td>\n",
       "      <td>31.000000</td>\n",
       "      <td>12.000000</td>\n",
       "      <td>2018.000000</td>\n",
       "    </tr>\n",
       "  </tbody>\n",
       "</table>\n",
       "</div>"
      ],
      "text/plain": [
       "       Petrol (USD)        date       month         year\n",
       "count    809.000000  809.000000  809.000000   809.000000\n",
       "mean     110.143115   15.741656    6.601978  2010.736712\n",
       "std       18.890684    8.804463    3.438972     4.499026\n",
       "min       74.210000    1.000000    1.000000  2003.000000\n",
       "25%       94.430000    8.000000    4.000000  2007.000000\n",
       "50%      112.370000   16.000000    7.000000  2011.000000\n",
       "75%      128.430000   23.000000   10.000000  2015.000000\n",
       "max      142.170000   31.000000   12.000000  2018.000000"
      ]
     },
     "execution_count": 53,
     "metadata": {},
     "output_type": "execute_result"
    }
   ],
   "source": [
    "df_refined.describe()"
   ]
  },
  {
   "cell_type": "code",
   "execution_count": 65,
   "id": "7a75b401",
   "metadata": {},
   "outputs": [
    {
     "data": {
      "text/plain": [
       "[<matplotlib.lines.Line2D at 0x1cc741fc8e0>]"
      ]
     },
     "execution_count": 65,
     "metadata": {},
     "output_type": "execute_result"
    },
    {
     "data": {
      "image/png": "[encoded data removed]",
      "text/plain": [
       "<Figure size 640x480 with 1 Axes>"
      ]
     },
     "metadata": {},
     "output_type": "display_data"
    }
   ],
   "source": [
    "fig , axs = plt.subplots()\n",
    "axs.plot(df_refined['Petrol (USD)'],df_refined['year'],color='red')\n"
   ]
  },
  {
   "cell_type": "code",
   "execution_count": 66,
   "id": "9977225b",
   "metadata": {},
   "outputs": [],
   "source": [
    "X = df_refined.drop(['Petrol (USD)'],axis=1)"
   ]
  },
  {
   "cell_type": "code",
   "execution_count": 67,
   "id": "83ced329",
   "metadata": {},
   "outputs": [],
   "source": [
    "y=df_refined['Petrol (USD)']"
   ]
  },
  {
   "cell_type": "code",
   "execution_count": 72,
   "id": "fa6a2eb4",
   "metadata": {},
   "outputs": [],
   "source": [
    "from sklearn.metrics import mean_absolute_error,mean_squared_error,r2_score\n",
    "from sklearn.linear_model import LinearRegression,Ridge,Lasso\n",
    "from sklearn.neighbors import KNeighborsRegressor\n",
    "from sklearn.tree import DecisionTreeRegressor\n",
    "from sklearn.ensemble import RandomForestRegressor,AdaBoostRegressor\n",
    "from sklearn.svm import SVR\n",
    "from sklearn.model_selection import RandomizedSearchCV\n"
   ]
  },
  {
   "cell_type": "code",
   "execution_count": 73,
   "id": "f32f8695",
   "metadata": {},
   "outputs": [],
   "source": [
    "from sklearn.model_selection import train_test_split\n",
    "X_train,X_test,y_train,y_test = train_test_split(X,y,test_size=0.2,random_state=42)"
   ]
  },
  {
   "cell_type": "code",
   "execution_count": 74,
   "id": "3e97d856",
   "metadata": {},
   "outputs": [],
   "source": [
    "import numpy as np\n",
    "def evaluate_model(true,predicted):\n",
    "    mae = mean_absolute_error(true,predicted)\n",
    "    mse = mean_squared_error(true,predicted)\n",
    "    rmse = np.sqrt(mean_squared_error(true,predicted))\n",
    "    r2 = r2_score(true,predicted)\n",
    "    return mae,rmse,r2"
   ]
  },
  {
   "cell_type": "code",
   "execution_count": 81,
   "id": "35fbea69",
   "metadata": {},
   "outputs": [
    {
     "name": "stdout",
     "output_type": "stream",
     "text": [
      "Linear Regression\n",
      "training set\n",
      "mae: 11.1920\n",
      "rmse: 13.0326\n",
      "r2 score: 0.5241\n",
      "---------------------------------------------\n",
      "testing set\n",
      "mae: 11.1259\n",
      "rmse: 12.9377\n",
      "r2 score: 0.5279\n",
      "=============================================\n",
      "\n",
      "\n",
      "Lasso\n",
      "training set\n",
      "mae: 11.2047\n",
      "rmse: 13.0386\n",
      "r2 score: 0.5237\n",
      "---------------------------------------------\n",
      "testing set\n",
      "mae: 11.1326\n",
      "rmse: 12.9411\n",
      "r2 score: 0.5276\n",
      "=============================================\n",
      "\n",
      "\n",
      "Ridge\n",
      "training set\n",
      "mae: 11.1920\n",
      "rmse: 13.0326\n",
      "r2 score: 0.5241\n",
      "---------------------------------------------\n",
      "testing set\n",
      "mae: 11.1260\n",
      "rmse: 12.9377\n",
      "r2 score: 0.5279\n",
      "=============================================\n",
      "\n",
      "\n",
      "K-Neighbors Regressor\n",
      "training set\n",
      "mae: 4.9894\n",
      "rmse: 6.1204\n",
      "r2 score: 0.8950\n",
      "---------------------------------------------\n",
      "testing set\n",
      "mae: 6.4418\n",
      "rmse: 7.9141\n",
      "r2 score: 0.8233\n",
      "=============================================\n",
      "\n",
      "\n",
      "Decision Tree\n",
      "training set\n",
      "mae: 0.0000\n",
      "rmse: 0.0000\n",
      "r2 score: 1.0000\n",
      "---------------------------------------------\n",
      "testing set\n",
      "mae: 0.9911\n",
      "rmse: 1.4680\n",
      "r2 score: 0.9939\n",
      "=============================================\n",
      "\n",
      "\n",
      "Random Forest Regressor\n",
      "training set\n",
      "mae: 0.3397\n",
      "rmse: 0.4785\n",
      "r2 score: 0.9994\n",
      "---------------------------------------------\n",
      "testing set\n",
      "mae: 1.0083\n",
      "rmse: 1.5255\n",
      "r2 score: 0.9934\n",
      "=============================================\n",
      "\n",
      "\n",
      "Adaboost Regressor\n",
      "training set\n",
      "mae: 3.6880\n",
      "rmse: 4.4801\n",
      "r2 score: 0.9438\n",
      "---------------------------------------------\n",
      "testing set\n",
      "mae: 4.1288\n",
      "rmse: 5.3446\n",
      "r2 score: 0.9194\n",
      "=============================================\n",
      "\n",
      "\n"
     ]
    }
   ],
   "source": [
    "models = {\n",
    "    'Linear Regression':LinearRegression(),\n",
    "    'Lasso':Lasso(),\n",
    "    'Ridge':Ridge(),\n",
    "    'K-Neighbors Regressor': KNeighborsRegressor(),\n",
    "    'Decision Tree':DecisionTreeRegressor(),\n",
    "    'Random Forest Regressor':RandomForestRegressor(),\n",
    "    'Adaboost Regressor':AdaBoostRegressor(),\n",
    "}\n",
    "\n",
    "modellist=[]\n",
    "r2list=[]\n",
    "\n",
    "for i in range(len(list(models))):\n",
    "    model = list(models.values())[i]\n",
    "    model.fit(X_train,y_train)\n",
    "    \n",
    "    y_train_Pred=model.predict(X_train)\n",
    "    y_test_Pred=model.predict(X_test)\n",
    "    \n",
    "    model_train_mae,model_train_rmse,model_train_r2 = evaluate_model(y_train,y_train_Pred)\n",
    "    model_test_mae,model_test_rmse,model_test_r2 = evaluate_model(y_test,y_test_Pred)\n",
    "    \n",
    "    print(list(models.keys())[i])\n",
    "    modellist.append(list(models.keys())[i])\n",
    "    \n",
    "    print('training set')\n",
    "    print('mae: {:.4f}'.format(model_train_mae))\n",
    "    print('rmse: {:.4f}'.format(model_train_rmse))\n",
    "    print('r2 score: {:.4f}'.format(model_train_r2))\n",
    "    print('---------------------------------------------')\n",
    "    \n",
    "    print('testing set')\n",
    "    print('mae: {:.4f}'.format(model_test_mae))\n",
    "    print('rmse: {:.4f}'.format(model_test_rmse))\n",
    "    print('r2 score: {:.4f}'.format(model_test_r2))\n",
    "    r2list.append(model_test_r2)\n",
    "    \n",
    "    print('=============================================')\n",
    "    print('\\n')"
   ]
  },
  {
   "cell_type": "code",
   "execution_count": 83,
   "id": "538f36c2",
   "metadata": {},
   "outputs": [
    {
     "data": {
      "text/plain": [
       "99.33386052092361"
      ]
     },
     "execution_count": 83,
     "metadata": {},
     "output_type": "execute_result"
    }
   ],
   "source": [
    "random_model = RandomForestRegressor(n_estimators=42)\n",
    "random_model.fit(X_train,y_train)\n",
    "y_pred = random_model.predict(X_test)\n",
    "score = r2_score(y_test,y_pred)*100\n",
    "score"
   ]
  },
  {
   "cell_type": "code",
   "execution_count": 85,
   "id": "ab12fdf6",
   "metadata": {},
   "outputs": [
    {
     "data": {
      "text/plain": [
       "<matplotlib.collections.PathCollection at 0x1cc78a981f0>"
      ]
     },
     "execution_count": 85,
     "metadata": {},
     "output_type": "execute_result"
    },
    {
     "data": {
      "image/png": "[encoded data removed]",
      "text/plain": [
       "<Figure size 640x480 with 1 Axes>"
      ]
     },
     "metadata": {},
     "output_type": "display_data"
    }
   ],
   "source": [
    "plt.scatter(y_test,y_pred)"
   ]
  },
  {
   "cell_type": "code",
   "execution_count": null,
   "id": "7cd7f543",
   "metadata": {},
   "outputs": [],
   "source": []
  }
 ],
 "metadata": {
  "kernelspec": {
   "display_name": "Python 3 (ipykernel)",
   "language": "python",
   "name": "python3"
  },
  "language_info": {
   "codemirror_mode": {
    "name": "ipython",
    "version": 3
   },
   "file_extension": ".py",
   "mimetype": "text/x-python",
   "name": "python",
   "nbconvert_exporter": "python",
   "pygments_lexer": "ipython3",
   "version": "3.9.13"
  }
 },
 "nbformat": 4,
 "nbformat_minor": 5
}
